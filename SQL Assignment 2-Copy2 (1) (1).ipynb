{
 "cells": [
  {
   "cell_type": "code",
   "execution_count": 1,
   "id": "f3e00de1",
   "metadata": {},
   "outputs": [
    {
     "name": "stdout",
     "output_type": "stream",
     "text": [
      "Enter file name: mbox.txt\n",
      "\n",
      "Counts:\n",
      "iupui.edu 8\n",
      "umich.edu 7\n",
      "uct.ac.za 6\n",
      "media.berkeley.edu 4\n",
      "caret.cam.ac.uk 1\n",
      "gmail.com 1\n"
     ]
    }
   ],
   "source": [
    "import sqlite3\n",
    "\n",
    "conn = sqlite3.connect('email_counts.sqlite')\n",
    "cur = conn.cursor()\n",
    "\n",
    "cur.execute('''\n",
    "CREATE TABLE IF NOT EXISTS Counts (org TEXT, count INTEGER)\n",
    "''')\n",
    "\n",
    "filename = input('Enter file name: ')\n",
    "if len(filename) < 1:\n",
    "    filename = 'mbox.txt'\n",
    "\n",
    "try:\n",
    "    with open(filename, 'r') as file:\n",
    "        for line in file:\n",
    "            if line.startswith('From '):\n",
    "                pieces = line.split()\n",
    "                email = pieces[1]\n",
    "                domain = email.split('@')[1]\n",
    "\n",
    "                cur.execute('SELECT count FROM Counts WHERE org = ?', (domain,))\n",
    "                row = cur.fetchone()\n",
    "                if row is None:\n",
    "                    cur.execute('INSERT INTO Counts (org, count) VALUES (?, 1)', (domain,))\n",
    "                else:\n",
    "                    cur.execute('UPDATE Counts SET count = count + 1 WHERE org = ?', (domain,))\n",
    "except FileNotFoundError:\n",
    "    print('File not found:', filename)\n",
    "\n",
    "conn.commit()\n",
    "\n",
    "# Retrieve and print the results\n",
    "cur.execute('SELECT * FROM Counts ORDER BY count DESC')\n",
    "\n",
    "print('\\nCounts:')\n",
    "for row in cur.fetchall():\n",
    "    print(row[0], row[1])\n",
    "\n",
    "cur.close()\n"
   ]
  },
  {
   "cell_type": "code",
   "execution_count": null,
   "id": "ad1fe7ee",
   "metadata": {},
   "outputs": [],
   "source": []
  }
 ],
 "metadata": {
  "kernelspec": {
   "display_name": "Python 3",
   "language": "python",
   "name": "python3"
  },
  "language_info": {
   "codemirror_mode": {
    "name": "ipython",
    "version": 3
   },
   "file_extension": ".py",
   "mimetype": "text/x-python",
   "name": "python",
   "nbconvert_exporter": "python",
   "pygments_lexer": "ipython3",
   "version": "3.8.8"
  }
 },
 "nbformat": 4,
 "nbformat_minor": 5
}
